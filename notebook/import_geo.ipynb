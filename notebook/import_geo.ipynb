{
 "cells": [
  {
   "cell_type": "code",
   "execution_count": 1,
   "metadata": {},
   "outputs": [],
   "source": [
    "import h3\n",
    "import numpy as np\n",
    "import pandas as pd\n",
    "import webbrowser\n",
    "import os\n",
    "import folium\n",
    "from folium import Map\n",
    "from tqmd import tqmd "
   ]
  },
  {
   "cell_type": "code",
   "execution_count": 2,
   "metadata": {},
   "outputs": [],
   "source": [
    "def create_map(clusters):\n",
    "    # Create the map object\n",
    "    map = Map(tiles=\"cartodbpositron\", \n",
    "          attr= 'Roambee - Neel Node Intelligence')\n",
    "\n",
    "    # Convert the clusters dictionary items to polygons and add them to the map\n",
    "    for cluster in clusters.values():\n",
    "        points = cluster['geom']\n",
    "        # points = [p[::-1] for p in points]\n",
    "        tooltip = \"{0} clustered\".format(cluster['count'])\n",
    "        polygon = folium.vector_layers.Polygon(locations=points, tooltip=tooltip,\n",
    "                                               fill=True, \n",
    "                                               color='#ff0000', \n",
    "                                               fill_color='#feb934', \n",
    "                                               fill_opacity=0.4, weight=3, opacity=0.4)\n",
    "        polygon.add_to(map)\n",
    "\n",
    "    # Determine the map bounding box\n",
    "    max_lat = df.latitude.max()\n",
    "    min_lat = df.latitude.min()\n",
    "    max_lon = df.longitude.max()\n",
    "    min_lon = df.longitude.min()\n",
    "    \n",
    "    # Fit the map to the bounds\n",
    "    map.fit_bounds([[min_lat, min_lon], [max_lat, max_lon]])\n",
    "    \n",
    "    return map\n",
    "def show_map(map, file_name):\n",
    "    map.save(file_name)\n",
    "    wb = webbrowser.open('file://' + os.path.realpath(file_name), new=2)"
   ]
  },
  {
   "cell_type": "code",
   "execution_count": 3,
   "metadata": {},
   "outputs": [],
   "source": [
    "data =  pd.read_csv(\"../data/bee_parsed_all.csv\")"
   ]
  },
  {
   "cell_type": "code",
   "execution_count": 4,
   "metadata": {},
   "outputs": [
    {
     "data": {
      "text/html": "<div>\n<style scoped>\n    .dataframe tbody tr th:only-of-type {\n        vertical-align: middle;\n    }\n\n    .dataframe tbody tr th {\n        vertical-align: top;\n    }\n\n    .dataframe thead th {\n        text-align: right;\n    }\n</style>\n<table border=\"1\" class=\"dataframe\">\n  <thead>\n    <tr style=\"text-align: right;\">\n      <th></th>\n      <th>imei</th>\n      <th>created_date</th>\n      <th>latitude</th>\n      <th>longitude</th>\n      <th>battery</th>\n      <th>battery_voltage</th>\n      <th>device_mode</th>\n      <th>prf</th>\n      <th>firmware</th>\n      <th>event_status</th>\n      <th>is_event</th>\n      <th>event_name</th>\n      <th>temperature</th>\n    </tr>\n  </thead>\n  <tbody>\n  </tbody>\n</table>\n</div>",
      "text/plain": "Empty DataFrame\nColumns: [imei, created_date, latitude, longitude, battery, battery_voltage, device_mode, prf, firmware, event_status, is_event, event_name, temperature]\nIndex: []"
     },
     "execution_count": 4,
     "metadata": {},
     "output_type": "execute_result"
    }
   ],
   "source": [
    "data.dropna()"
   ]
  },
  {
   "cell_type": "code",
   "execution_count": 5,
   "metadata": {},
   "outputs": [],
   "source": [
    "data = data.loc[data[\"latitude\"] <1000000]\n",
    "data = data.loc[data[\"longitude\"] <1000000]"
   ]
  },
  {
   "cell_type": "code",
   "execution_count": 6,
   "metadata": {},
   "outputs": [],
   "source": [
    "h3_level = 11"
   ]
  },
  {
   "cell_type": "code",
   "execution_count": 7,
   "metadata": {},
   "outputs": [],
   "source": [
    "def lat_lng_to_h3(row):\n",
    "    return h3.geo_to_h3(row['latitude'], row['longitude'], h3_level)"
   ]
  },
  {
   "cell_type": "code",
   "execution_count": 8,
   "metadata": {},
   "outputs": [],
   "source": [
    "data['h3'] = data.apply(lat_lng_to_h3, axis=1)"
   ]
  },
  {
   "cell_type": "code",
   "execution_count": 9,
   "metadata": {},
   "outputs": [],
   "source": [
    "h3_clusters = dict()\n",
    "\n",
    "for index, row in data.iterrows():\n",
    "    key = row['h3']\n",
    "    if key in h3_clusters:\n",
    "        h3_clusters[key][\"count\"] += 1\n",
    "    else:\n",
    "        h3_clusters[key] = {\"count\": 1,\n",
    "                            \"geom\": h3.h3_to_geo_boundary(key)}"
   ]
  },
  {
   "cell_type": "code",
   "execution_count": 161,
   "metadata": {},
   "outputs": [],
   "source": [
    "relevant_clusters = { key:value for (key,value) in h3_clusters.items() if value['count'] >= 50}"
   ]
  },
  {
   "cell_type": "code",
   "execution_count": 162,
   "metadata": {},
   "outputs": [],
   "source": [
    "h3_map = create_map(relevant_clusters)\n",
    "show_map(h3_map, \"map_h3_{0}.html\".format(h3_level))"
   ]
  },
  {
   "cell_type": "code",
   "execution_count": 153,
   "metadata": {},
   "outputs": [
    {
     "data": {
      "text/plain": "[(51.167926053762365, 6.839661523387771),\n (1.6023491455066743, 103.68362002133416)]"
     },
     "execution_count": 153,
     "metadata": {},
     "output_type": "execute_result"
    }
   ],
   "source": [
    "cluster_geo = [h3.h3_to_geo(h) for h in relevant_clusters.keys()]\n",
    "cluster_geo"
   ]
  }
 ],
 "metadata": {
  "kernelspec": {
   "display_name": "Python 3.9.1 64-bit",
   "metadata": {
    "interpreter": {
     "hash": "ac2eaa0ea0ebeafcc7822e65e46aa9d4f966f30b695406963e145ea4a91cd4fc"
    }
   },
   "name": "python3"
  },
  "language_info": {
   "codemirror_mode": {
    "name": "ipython",
    "version": 3
   },
   "file_extension": ".py",
   "mimetype": "text/x-python",
   "name": "python",
   "nbconvert_exporter": "python",
   "pygments_lexer": "ipython3",
   "version": "3.9.1"
  },
  "orig_nbformat": 2
 },
 "nbformat": 4,
 "nbformat_minor": 2
}