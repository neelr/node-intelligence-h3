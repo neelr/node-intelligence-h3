{
 "cells": [
  {
   "cell_type": "code",
   "execution_count": 1,
   "metadata": {},
   "outputs": [],
   "source": [
    "import h3\n",
    "import numpy as np\n",
    "import pandas as pd\n",
    "import webbrowser\n",
    "import os\n",
    "import folium\n",
    "from folium import Map\n",
    "import geopandas as gpd\n",
    "import geopy\n",
    "from geopy.geocoders import Nominatim\n",
    "from geopy.extra.rate_limiter import RateLimiter"
   ]
  },
  {
   "cell_type": "code",
   "execution_count": 98,
   "metadata": {},
   "outputs": [],
   "source": [
    "def create_map(clusters):\n",
    "    # Create the map object\n",
    "    map = Map(tiles=\"cartodbpositron\", \n",
    "          attr= 'Roambee - Neel Node Intelligence')\n",
    "\n",
    "    # Convert the clusters dictionary items to polygons and add them to the map\n",
    "    print(clusters)\n",
    "    for cluster in clusters:\n",
    "        points = cluster['geom']\n",
    "        # points = [p[::-1] for p in points]\n",
    "        tooltip = \"{0} points <br>{1}\".format(cluster['count'], cluster['address']['display_name'])\n",
    "        polygon = folium.vector_layers.Polygon(locations=points, tooltip=tooltip,\n",
    "                                               fill=True, \n",
    "                                               color='#ff0000', \n",
    "                                               fill_color='#feb934', \n",
    "                                               fill_opacity=0.4, weight=3, opacity=0.4)\n",
    "        polygon.add_to(map)\n",
    "\n",
    "    # Determine the map bounding box\n",
    "    max_lat = df.latitude.max()\n",
    "    min_lat = df.latitude.min()\n",
    "    max_lon = df.longitude.max()\n",
    "    min_lon = df.longitude.min()\n",
    "    \n",
    "    # Fit the map to the bounds\n",
    "    map.fit_bounds([[min_lat, min_lon], [max_lat, max_lon]])\n",
    "    \n",
    "    return map\n",
    "def show_map(map, file_name):\n",
    "    map.save(file_name)\n",
    "    wb = webbrowser.open('file://' + os.path.realpath(file_name), new=2)"
   ]
  },
  {
   "cell_type": "code",
   "execution_count": 7,
   "metadata": {},
   "outputs": [
    {
     "name": "stderr",
     "output_type": "stream",
     "text": [
      "/Users/neelredkar/.local/share/virtualenvs/node-intelligence-h3-1ZFNNMLi/lib/python3.9/site-packages/IPython/core/interactiveshell.py:3441: DtypeWarning: Columns (0,12) have mixed types.Specify dtype option on import or set low_memory=False.\n",
      "  exec(code_obj, self.user_global_ns, self.user_ns)\n"
     ]
    }
   ],
   "source": [
    "data =  pd.read_csv(\"../data/bee_parsed_all.csv\")"
   ]
  },
  {
   "cell_type": "code",
   "execution_count": 8,
   "metadata": {},
   "outputs": [
    {
     "data": {
      "text/html": [
       "<div>\n",
       "<style scoped>\n",
       "    .dataframe tbody tr th:only-of-type {\n",
       "        vertical-align: middle;\n",
       "    }\n",
       "\n",
       "    .dataframe tbody tr th {\n",
       "        vertical-align: top;\n",
       "    }\n",
       "\n",
       "    .dataframe thead th {\n",
       "        text-align: right;\n",
       "    }\n",
       "</style>\n",
       "<table border=\"1\" class=\"dataframe\">\n",
       "  <thead>\n",
       "    <tr style=\"text-align: right;\">\n",
       "      <th></th>\n",
       "      <th>imei</th>\n",
       "      <th>created_date</th>\n",
       "      <th>latitude</th>\n",
       "      <th>longitude</th>\n",
       "      <th>battery</th>\n",
       "      <th>battery_voltage</th>\n",
       "      <th>device_mode</th>\n",
       "      <th>prf</th>\n",
       "      <th>firmware</th>\n",
       "      <th>event_status</th>\n",
       "      <th>is_event</th>\n",
       "      <th>event_name</th>\n",
       "      <th>temperature</th>\n",
       "    </tr>\n",
       "  </thead>\n",
       "  <tbody>\n",
       "  </tbody>\n",
       "</table>\n",
       "</div>"
      ],
      "text/plain": [
       "Empty DataFrame\n",
       "Columns: [imei, created_date, latitude, longitude, battery, battery_voltage, device_mode, prf, firmware, event_status, is_event, event_name, temperature]\n",
       "Index: []"
      ]
     },
     "execution_count": 8,
     "metadata": {},
     "output_type": "execute_result"
    }
   ],
   "source": [
    "data.dropna()"
   ]
  },
  {
   "cell_type": "code",
   "execution_count": 9,
   "metadata": {},
   "outputs": [],
   "source": [
    "data = data.loc[data[\"latitude\"] <1000000]\n",
    "data = data.loc[data[\"longitude\"] <1000000]"
   ]
  },
  {
   "cell_type": "code",
   "execution_count": 10,
   "metadata": {},
   "outputs": [],
   "source": [
    "h3_level = 11"
   ]
  },
  {
   "cell_type": "code",
   "execution_count": 11,
   "metadata": {},
   "outputs": [],
   "source": [
    "def lat_lng_to_h3(row):\n",
    "    return h3.geo_to_h3(row['latitude'], row['longitude'], h3_level)"
   ]
  },
  {
   "cell_type": "code",
   "execution_count": 12,
   "metadata": {},
   "outputs": [],
   "source": [
    "data['h3'] = data.apply(lat_lng_to_h3, axis=1)"
   ]
  },
  {
   "cell_type": "code",
   "execution_count": 13,
   "metadata": {},
   "outputs": [],
   "source": [
    "h3_clusters = dict()\n",
    "\n",
    "for index, row in data.iterrows():\n",
    "    key = row['h3']\n",
    "    if key in h3_clusters:\n",
    "        h3_clusters[key][\"count\"] += 1\n",
    "    else:\n",
    "        h3_clusters[key] = {\"count\": 1,\n",
    "                            \"geom\": h3.h3_to_geo_boundary(key)}"
   ]
  },
  {
   "cell_type": "code",
   "execution_count": 16,
   "metadata": {},
   "outputs": [],
   "source": [
    "relevant_clusters = { key:value for (key,value) in h3_clusters.items() if value['count'] >= 1000}"
   ]
  },
  {
   "cell_type": "code",
   "execution_count": 68,
   "metadata": {},
   "outputs": [
    {
     "data": {
      "text/plain": [
       "[{'count': 5433,\n",
       "  'geom': ((51.16769282376505, 6.839700553909991),\n",
       "   (51.167459592932396, 6.839739584175095),\n",
       "   (51.167383527536934, 6.8400992595731465),\n",
       "   (51.16754069288607, 6.840419907052807),\n",
       "   (51.16777392414364, 6.840380878902874),\n",
       "   (51.167849989627186, 6.840021201158116))},\n",
       " {'count': 12036,\n",
       "  'geom': ((51.16831140588922, 6.838903134618597),\n",
       "   (51.16807817798758, 6.838942167770299),\n",
       "   (51.168002116549154, 6.83930184559181),\n",
       "   (51.1681592829243, 6.839622492608387),\n",
       "   (51.16839251125085, 6.839583461571881),\n",
       "   (51.16846857277735, 6.839223781403608))},\n",
       " {'count': 6085,\n",
       "  'geom': ((1.518986162191612, 103.78442601768933),\n",
       "   (1.5192529003821542, 103.78436152484234),\n",
       "   (1.5193260459463633, 103.78409657077204),\n",
       "   (1.519132452867623, 103.7838961097238),\n",
       "   (1.5188657145869207, 103.78396060306672),\n",
       "   (1.518792569475116, 103.78422555696194))},\n",
       " {'count': 14118,\n",
       "  'geom': ((1.5180655024317853, 103.7841540823475),\n",
       "   (1.5183322393689889, 103.78408958937858),\n",
       "   (1.5184053840283929, 103.78382463565843),\n",
       "   (1.518211791298182, 103.78362417508231),\n",
       "   (1.517945054270835, 103.78368866854717),\n",
       "   (1.5178719100638365, 103.78395362209223))},\n",
       " {'count': 3985,\n",
       "  'geom': ((1.6022759132986215, 103.6838851884138),\n",
       "   (1.602542837744804, 103.68382056700811),\n",
       "   (1.602616070218436, 103.68355539961878),\n",
       "   (1.6024223777971944, 103.68335485381276),\n",
       "   (1.602155453263405, 103.68341947571314),\n",
       "   (1.6020822212384562, 103.68368464292485))},\n",
       " {'count': 1067,\n",
       "  'geom': ((51.34797162273188, 6.839329386121978),\n",
       "   (51.34773900878572, 6.839368520874992),\n",
       "   (51.34766333269289, 6.839729147876481),\n",
       "   (51.34782027045494, 6.840050642484148),\n",
       "   (51.34805288482338, 6.84001150985752),\n",
       "   (51.34812856100751, 6.839650880496857))},\n",
       " {'count': 7044,\n",
       "  'geom': ((37.3786860084326, -121.94041537839841),\n",
       "   (37.378926678548765, -121.94026134753472),\n",
       "   (37.379143554181034, -121.94044016704238),\n",
       "   (37.37911975921636, -121.94077301742381),\n",
       "   (37.378879089082105, -121.94092704690196),\n",
       "   (37.37866221393062, -121.94074822738422))},\n",
       " {'count': 5896,\n",
       "  'geom': ((51.2670781315491, 6.78516448625507),\n",
       "   (51.26684529634741, 6.7852037468429325),\n",
       "   (51.26676962450045, 6.785563889096944),\n",
       "   (51.266926787767055, 6.785884773119239),\n",
       "   (51.26715962339346, 6.785845514649986),\n",
       "   (51.267235295328504, 6.78548537003979))},\n",
       " {'count': 1246,\n",
       "  'geom': ((1.6236931815499167, 103.67127625496242),\n",
       "   (1.623960145854529, 103.67121161528587),\n",
       "   (1.6240333998927254, 103.67094641235194),\n",
       "   (1.6238396891781715, 103.67074584927256),\n",
       "   (1.6235727247861431, 103.67081048944374),\n",
       "   (1.623499471196085, 103.67107569219968))},\n",
       " {'count': 1507,\n",
       "  'geom': ((1.6014751426214218, 103.68407905188253),\n",
       "   (1.601742065736919, 103.68401443085101),\n",
       "   (1.6018152974137967, 103.68374926439081),\n",
       "   (1.6016216055264876, 103.68354871913978),\n",
       "   (1.6013546823233953, 103.68361334066601),\n",
       "   (1.6012814510952045, 103.68387850694857))},\n",
       " {'count': 1026,\n",
       "  'geom': ((1.5605825074516553, 103.82852147851689),\n",
       "   (1.5608492832769008, 103.8284570267382),\n",
       "   (1.5609224682904426, 103.82819210337034),\n",
       "   (1.560728877025158, 103.8279916319552),\n",
       "   (1.5604621011076807, 103.8280560842306),\n",
       "   (1.5603889165477216, 103.8283210074244))},\n",
       " {'count': 1161,\n",
       "  'geom': ((1.572740099213985, 103.65194105753137),\n",
       "   (1.5730069972217278, 103.6518764064183),\n",
       "   (1.5730802018715024, 103.65161121700592),\n",
       "   (1.5728865080657033, 103.65141067888504),\n",
       "   (1.57261960997185, 103.65147533049227),\n",
       "   (1.5725464057699037, 103.65174051972626))},\n",
       " {'count': 1828,\n",
       "  'geom': ((14.128647070665652, 121.13003943087108),\n",
       "   (14.12838922827715, 121.13008855835038),\n",
       "   (14.12831359809737, 121.13033859774814),\n",
       "   (14.128495810851772, 121.13053951020785),\n",
       "   (14.128753653747935, 121.13049038266627),\n",
       "   (14.128829283382025, 121.1302403427272))},\n",
       " {'count': 5193,\n",
       "  'geom': ((48.043495911785755, 16.301518645054486),\n",
       "   (48.04324562767767, 16.301525949370554),\n",
       "   (48.04313251362769, 16.301872361511418),\n",
       "   (48.04326968336076, 16.302211470904755),\n",
       "   (48.04351996765765, 16.30220416883184),\n",
       "   (48.043633082032656, 16.301857755122416))},\n",
       " {'count': 3474,\n",
       "  'geom': ((37.664615098184605, -122.3821063316617),\n",
       "   (37.66485561417418, -122.38195332953349),\n",
       "   (37.66507088168381, -122.38213304887444),\n",
       "   (37.665045632726304, -122.38246577032479),\n",
       "   (37.66480511673294, -122.38261877104209),\n",
       "   (37.664589849700874, -122.38243905171993))},\n",
       " {'count': 1066,\n",
       "  'geom': ((37.66552666349001, -122.3821597663164),\n",
       "   (37.66576717826032, -122.3820067630253),\n",
       "   (37.665982443603134, -122.38218648398761),\n",
       "   (37.66595719369812, -122.38251920822226),\n",
       "   (37.66571667892403, -122.38267221010243),\n",
       "   (37.66550141405873, -122.3824924891589))},\n",
       " {'count': 4254,\n",
       "  'geom': ((37.540939712520334, -122.06112853256614),\n",
       "   (37.54118022841956, -122.06097465754067),\n",
       "   (37.54139647997397, -122.06115386836444),\n",
       "   (37.541372215150304, -122.06148695421595),\n",
       "   (37.54113169923708, -122.06164082784674),\n",
       "   (37.5409154481615, -122.06146161702073))},\n",
       " {'count': 1480,\n",
       "  'geom': ((51.60146310410703, 5.01573157870171),\n",
       "   (51.60123334086634, 5.015776625319914),\n",
       "   (51.60116421725834, 5.016136415303806),\n",
       "   (51.60132485685553, 5.016451161127923),\n",
       "   (51.60155462055525, 5.016406116555083),\n",
       "   (51.601623744198754, 5.016046324112737))},\n",
       " {'count': 2930,\n",
       "  'geom': ((35.67470247589357, 139.8149457004078),\n",
       "   (35.67495315252921, 139.8148650663297),\n",
       "   (35.6750208644814, 139.8145813715711),\n",
       "   (35.67483790017922, 139.81437831286254),\n",
       "   (35.674587224624474, 139.8144589479583),\n",
       "   (35.674519512291006, 139.81474264074498))},\n",
       " {'count': 1888,\n",
       "  'geom': ((46.85377665862242, 9.515761280617356),\n",
       "   (46.85352716998632, 9.515789934955516),\n",
       "   (46.85343346076573, 9.516131010099848),\n",
       "   (46.85358924006427, 9.516443432863003),\n",
       "   (46.853838729113875, 9.516414780513902),\n",
       "   (46.853932438451444, 9.516073703412596))},\n",
       " {'count': 1282,\n",
       "  'geom': ((35.772227550243265, 140.38237702369327),\n",
       "   (35.77247947830286, 140.38229762986822),\n",
       "   (35.77254860597312, 140.38201208121257),\n",
       "   (35.7723658059439, 140.38180592836707),\n",
       "   (35.77211387895625, 140.3818853232481),\n",
       "   (35.77204475092584, 140.3821708699187))},\n",
       " {'count': 2518,\n",
       "  'geom': ((50.04841926914673, 8.561590010575376),\n",
       "   (50.04818059042222, 8.561622982274848),\n",
       "   (50.04809648302925, 8.561978445773553),\n",
       "   (50.04825105423525, 8.562300939758927),\n",
       "   (50.04848973335795, 8.562267970187214),\n",
       "   (50.04857384087648, 8.561912504502352))},\n",
       " {'count': 6202,\n",
       "  'geom': ((19.0590323988486, -98.28482103227438),\n",
       "   (19.05925556004551, -98.28464356279432),\n",
       "   (19.059510470010245, -98.28475535115065),\n",
       "   (19.059542218582664, -98.28504461002227),\n",
       "   (19.05931905667541, -98.28522207957688),\n",
       "   (19.059064146906074, -98.28511029018534))},\n",
       " {'count': 1170,\n",
       "  'geom': ((19.28935577977188, -99.53614457786429),\n",
       "   (19.289580908756392, -99.5359678800002),\n",
       "   (19.289836102660605, -99.53608305547063),\n",
       "   (19.289866167343966, -99.53637492980788),\n",
       "   (19.28964103765957, -99.53655162768183),\n",
       "   (19.28938584399171, -99.53643645120867))},\n",
       " {'count': 1076,\n",
       "  'geom': ((19.463116050111992, -99.23685389996184),\n",
       "   (19.46334078900501, -99.2366766866207),\n",
       "   (19.463596184430337, -99.23679126243466),\n",
       "   (19.463626840739305, -99.23708305260423),\n",
       "   (19.463402101147153, -99.23726026597095),\n",
       "   (19.463146705945167, -99.23714568914254))}]"
      ]
     },
     "execution_count": 68,
     "metadata": {},
     "output_type": "execute_result"
    }
   ],
   "source": [
    "toskip = []\n",
    "filtered_geo = []\n",
    "filtered_geo_id = []\n",
    "cluster_geo = [h3.h3_to_geo(h) for h in relevant_clusters.keys()]\n",
    "for idx,i in enumerate(cluster_geo):\n",
    "    if idx in toskip:\n",
    "        continue\n",
    "    filtered_geo.append(list(relevant_clusters.values())[idx])\n",
    "    filtered_geo_id.append(list(relevant_clusters.keys())[idx])\n",
    "    for s,j in enumerate(cluster_geo):\n",
    "        if abs(i[0] - j[0]) < 0.00059:\n",
    "            toskip.append(s)\n",
    "        if abs(i[0]-j[0]) < 0.00059:\n",
    "            toskip.append(s)\n",
    "filtered_geo"
   ]
  },
  {
   "cell_type": "code",
   "execution_count": 101,
   "metadata": {},
   "outputs": [
    {
     "name": "stdout",
     "output_type": "stream",
     "text": [
      "[{'count': 5433, 'geom': ((51.16769282376505, 6.839700553909991), (51.167459592932396, 6.839739584175095), (51.167383527536934, 6.8400992595731465), (51.16754069288607, 6.840419907052807), (51.16777392414364, 6.840380878902874), (51.167849989627186, 6.840021201158116)), 'address': {'place_id': 146561397, 'licence': 'Data © OpenStreetMap contributors, ODbL 1.0. https://osm.org/copyright', 'osm_type': 'way', 'osm_id': 228441175, 'lat': '51.16767405', 'lon': '6.839964711427934', 'display_name': 'Rheinhöfe Kranhaus, 31a, Reisholzer Werftstraße, Holthausen, Stadtbezirk 9, Düsseldorf, Nordrhein-Westfalen, 40589, Deutschland', 'address': {'building': 'Rheinhöfe Kranhaus', 'house_number': '31a', 'road': 'Reisholzer Werftstraße', 'suburb': 'Holthausen', 'city_district': 'Stadtbezirk 9', 'city': 'Düsseldorf', 'state': 'Nordrhein-Westfalen', 'postcode': '40589', 'country': 'Deutschland', 'country_code': 'de'}, 'boundingbox': ['51.1675628', '51.1678441', '6.83979', '6.8400713']}}, {'count': 12036, 'geom': ((51.16831140588922, 6.838903134618597), (51.16807817798758, 6.838942167770299), (51.168002116549154, 6.83930184559181), (51.1681592829243, 6.839622492608387), (51.16839251125085, 6.839583461571881), (51.16846857277735, 6.839223781403608)), 'address': {'place_id': 45990480, 'licence': 'Data © OpenStreetMap contributors, ODbL 1.0. https://osm.org/copyright', 'osm_type': 'node', 'osm_id': 3642143107, 'lat': '51.1682367', 'lon': '6.839327', 'display_name': '23, Reisholzer Werftstraße, Holthausen, Stadtbezirk 9, Düsseldorf, Nordrhein-Westfalen, 40589, Deutschland', 'address': {'house_number': '23', 'road': 'Reisholzer Werftstraße', 'suburb': 'Holthausen', 'city_district': 'Stadtbezirk 9', 'city': 'Düsseldorf', 'state': 'Nordrhein-Westfalen', 'postcode': '40589', 'country': 'Deutschland', 'country_code': 'de'}, 'boundingbox': ['51.1681867', '51.1682867', '6.839277', '6.839377']}}, {'count': 6085, 'geom': ((1.518986162191612, 103.78442601768933), (1.5192529003821542, 103.78436152484234), (1.5193260459463633, 103.78409657077204), (1.519132452867623, 103.7838961097238), (1.5188657145869207, 103.78396060306672), (1.518792569475116, 103.78422555696194)), 'address': {'place_id': 240711113, 'licence': 'Data © OpenStreetMap contributors, ODbL 1.0. https://osm.org/copyright', 'osm_type': 'way', 'osm_id': 766032147, 'lat': '1.518987321122633', 'lon': '103.78412790203801', 'display_name': 'Jalan Molek 3/20, Taman Molek, Johor Bahru, Iskandar Malaysia, Johor, 80150, Malaysia', 'address': {'road': 'Jalan Molek 3/20', 'suburb': 'Taman Molek', 'city': 'Johor Bahru', 'district': 'Johor Bahru', 'region': 'Iskandar Malaysia', 'state': 'Johor', 'postcode': '80150', 'country': 'Malaysia', 'country_code': 'my'}, 'boundingbox': ['1.5184091', '1.5196379', '103.7838547', '103.7846419']}}, {'count': 14118, 'geom': ((1.5180655024317853, 103.7841540823475), (1.5183322393689889, 103.78408958937858), (1.5184053840283929, 103.78382463565843), (1.518211791298182, 103.78362417508231), (1.517945054270835, 103.78368866854717), (1.5178719100638365, 103.78395362209223)), 'address': {'place_id': 220289754, 'licence': 'Data © OpenStreetMap contributors, ODbL 1.0. https://osm.org/copyright', 'osm_type': 'way', 'osm_id': 642251985, 'lat': '1.5183235315530945', 'lon': '103.78398265479618', 'display_name': 'Jalan Persiaran Bumi Hijau, Taman Molek, Johor Bahru, Iskandar Malaysia, Johor, 80150, Malaysia', 'address': {'road': 'Jalan Persiaran Bumi Hijau', 'suburb': 'Taman Molek', 'city': 'Johor Bahru', 'district': 'Johor Bahru', 'region': 'Iskandar Malaysia', 'state': 'Johor', 'postcode': '80150', 'country': 'Malaysia', 'country_code': 'my'}, 'boundingbox': ['1.5142932', '1.5185774', '103.7834808', '103.7903547']}}, {'count': 3985, 'geom': ((1.6022759132986215, 103.6838851884138), (1.602542837744804, 103.68382056700811), (1.602616070218436, 103.68355539961878), (1.6024223777971944, 103.68335485381276), (1.602155453263405, 103.68341947571314), (1.6020822212384562, 103.68368464292485)), 'address': {'place_id': 246582716, 'licence': 'Data © OpenStreetMap contributors, ODbL 1.0. https://osm.org/copyright', 'osm_type': 'way', 'osm_id': 808576424, 'lat': '1.6032037', 'lon': '103.6836223', 'display_name': 'Johor Bahru, Iskandar Malaysia, Johor, 81400, Malaysia', 'address': {'district': 'Johor Bahru', 'region': 'Iskandar Malaysia', 'state': 'Johor', 'postcode': '81400', 'country': 'Malaysia', 'country_code': 'my'}, 'boundingbox': ['1.6032037', '1.6049527', '103.6831819', '103.68514']}}, {'count': 1067, 'geom': ((51.34797162273188, 6.839329386121978), (51.34773900878572, 6.839368520874992), (51.34766333269289, 6.839729147876481), (51.34782027045494, 6.840050642484148), (51.34805288482338, 6.84001150985752), (51.34812856100751, 6.839650880496857)), 'address': {'place_id': 136925454, 'licence': 'Data © OpenStreetMap contributors, ODbL 1.0. https://osm.org/copyright', 'osm_type': 'way', 'osm_id': 198083720, 'lat': '51.34759875', 'lon': '6.839949819075542', 'display_name': '117, Breitscheider Weg, Lintorf, Lintorf/Breitscheid, Ratingen, Kreis Mettmann, Nordrhein-Westfalen, 40885, Deutschland', 'address': {'house_number': '117', 'road': 'Breitscheider Weg', 'town': 'Lintorf', 'city_district': 'Lintorf/Breitscheid', 'county': 'Kreis Mettmann', 'state': 'Nordrhein-Westfalen', 'postcode': '40885', 'country': 'Deutschland', 'country_code': 'de'}, 'boundingbox': ['51.3473996', '51.347798', '6.8397031', '6.8401965']}}, {'count': 7044, 'geom': ((37.3786860084326, -121.94041537839841), (37.378926678548765, -121.94026134753472), (37.379143554181034, -121.94044016704238), (37.37911975921636, -121.94077301742381), (37.378879089082105, -121.94092704690196), (37.37866221393062, -121.94074822738422)), 'address': {'place_id': 117983471, 'licence': 'Data © OpenStreetMap contributors, ODbL 1.0. https://osm.org/copyright', 'osm_type': 'way', 'osm_id': 122206692, 'lat': '37.378885350000004', 'lon': '-121.94090568692064', 'display_name': '3120, De La Cruz Boulevard, Santa Clara, Santa Clara County, California, 95054, United States', 'address': {'house_number': '3120', 'road': 'De La Cruz Boulevard', 'city': 'Santa Clara', 'county': 'Santa Clara County', 'state': 'California', 'postcode': '95054', 'country': 'United States', 'country_code': 'us'}, 'boundingbox': ['37.378677', '37.3791332', '-121.9411718', '-121.9405539']}}, {'count': 5896, 'geom': ((51.2670781315491, 6.78516448625507), (51.26684529634741, 6.7852037468429325), (51.26676962450045, 6.785563889096944), (51.266926787767055, 6.785884773119239), (51.26715962339346, 6.785845514649986), (51.267235295328504, 6.78548537003979)), 'address': {'place_id': 129081553, 'licence': 'Data © OpenStreetMap contributors, ODbL 1.0. https://osm.org/copyright', 'osm_type': 'way', 'osm_id': 165024840, 'lat': '51.266903850000006', 'lon': '6.785542606297309', 'display_name': '89, Wilseder Weg, Unterrath, Stadtbezirk 6, Düsseldorf, Nordrhein-Westfalen, 40468, Deutschland', 'address': {'house_number': '89', 'road': 'Wilseder Weg', 'suburb': 'Unterrath', 'city_district': 'Stadtbezirk 6', 'city': 'Düsseldorf', 'state': 'Nordrhein-Westfalen', 'postcode': '40468', 'country': 'Deutschland', 'country_code': 'de'}, 'boundingbox': ['51.2668448', '51.266963', '6.7854478', '6.7856374']}}, {'count': 1246, 'geom': ((1.6236931815499167, 103.67127625496242), (1.623960145854529, 103.67121161528587), (1.6240333998927254, 103.67094641235194), (1.6238396891781715, 103.67074584927256), (1.6235727247861431, 103.67081048944374), (1.623499471196085, 103.67107569219968)), 'address': {'place_id': 194090646, 'licence': 'Data © OpenStreetMap contributors, ODbL 1.0. https://osm.org/copyright', 'osm_type': 'way', 'osm_id': 462561617, 'lat': '1.6238506317541148', 'lon': '103.67094686013871', 'display_name': 'Kulai, Iskandar Malaysia, Johor, 81000, Malaysia', 'address': {'city': 'Kulai', 'district': 'Kulai', 'region': 'Iskandar Malaysia', 'state': 'Johor', 'postcode': '81000', 'country': 'Malaysia', 'country_code': 'my'}, 'boundingbox': ['1.6169668', '1.6247262', '103.6678007', '103.6738813']}}, {'count': 1507, 'geom': ((1.6014751426214218, 103.68407905188253), (1.601742065736919, 103.68401443085101), (1.6018152974137967, 103.68374926439081), (1.6016216055264876, 103.68354871913978), (1.6013546823233953, 103.68361334066601), (1.6012814510952045, 103.68387850694857)), 'address': {'place_id': 241816737, 'licence': 'Data © OpenStreetMap contributors, ODbL 1.0. https://osm.org/copyright', 'osm_type': 'way', 'osm_id': 767938296, 'lat': '1.6008503067897921', 'lon': '103.6843520583782', 'display_name': 'Johor Bahru, Iskandar Malaysia, Johor, 81400, Malaysia', 'address': {'district': 'Johor Bahru', 'region': 'Iskandar Malaysia', 'state': 'Johor', 'postcode': '81400', 'country': 'Malaysia', 'country_code': 'my'}, 'boundingbox': ['1.5942461', '1.6078611', '103.6758708', '103.6978728']}}, {'count': 1026, 'geom': ((1.5605825074516553, 103.82852147851689), (1.5608492832769008, 103.8284570267382), (1.5609224682904426, 103.82819210337034), (1.560728877025158, 103.8279916319552), (1.5604621011076807, 103.8280560842306), (1.5603889165477216, 103.8283210074244)), 'address': {'place_id': 125574950, 'licence': 'Data © OpenStreetMap contributors, ODbL 1.0. https://osm.org/copyright', 'osm_type': 'way', 'osm_id': 153759466, 'lat': '1.5607163989375996', 'lon': '103.8282970288557', 'display_name': 'Taman Perindustrian Cemerlang, Taman Desa Cemerlang, Johor Bahru, Iskandar Malaysia, Johor, 81800, Malaysia', 'address': {'neighbourhood': 'Taman Perindustrian Cemerlang', 'suburb': 'Taman Desa Cemerlang', 'city': 'Johor Bahru', 'district': 'Johor Bahru', 'region': 'Iskandar Malaysia', 'state': 'Johor', 'postcode': '81800', 'country': 'Malaysia', 'country_code': 'my'}, 'boundingbox': ['1.5603163', '1.5627359', '103.82508', '103.828901']}}, {'count': 1161, 'geom': ((1.572740099213985, 103.65194105753137), (1.5730069972217278, 103.6518764064183), (1.5730802018715024, 103.65161121700592), (1.5728865080657033, 103.65141067888504), (1.57261960997185, 103.65147533049227), (1.5725464057699037, 103.65174051972626)), 'address': {'place_id': 183566298, 'licence': 'Data © OpenStreetMap contributors, ODbL 1.0. https://osm.org/copyright', 'osm_type': 'way', 'osm_id': 400810177, 'lat': '1.5734534690033284', 'lon': '103.65051272044026', 'display_name': 'Taman Teknologi Johor, Kulai, Iskandar Puteri, Kulai, Iskandar Malaysia, Johor, 81000, Malaysia', 'address': {'industrial': 'Taman Teknologi Johor', 'city': 'Kulai', 'municipality': 'Iskandar Puteri', 'district': 'Kulai', 'region': 'Iskandar Malaysia', 'state': 'Johor', 'postcode': '81000', 'country': 'Malaysia', 'country_code': 'my'}, 'boundingbox': ['1.5707521', '1.5754321', '103.6502488', '103.6516883']}}, {'count': 1828, 'geom': ((14.128647070665652, 121.13003943087108), (14.12838922827715, 121.13008855835038), (14.12831359809737, 121.13033859774814), (14.128495810851772, 121.13053951020785), (14.128753653747935, 121.13049038266627), (14.128829283382025, 121.1302403427272)), 'address': {'place_id': 194091071, 'licence': 'Data © OpenStreetMap contributors, ODbL 1.0. https://osm.org/copyright', 'osm_type': 'way', 'osm_id': 459695171, 'lat': '14.12940396759838', 'lon': '121.12990289004895', 'display_name': 'H. Y. Dimacali Avenue, First Philippine Industrial Park, Santa Anastacia, Santo Tomas, Batangas, Calabarzon, 4234, Philippines', 'address': {'road': 'H. Y. Dimacali Avenue', 'industrial': 'First Philippine Industrial Park', 'village': 'Santa Anastacia', 'city': 'Santo Tomas', 'state': 'Batangas', 'region': 'Calabarzon', 'postcode': '4234', 'country': 'Philippines', 'country_code': 'ph'}, 'boundingbox': ['14.1287902', '14.1316041', '121.1285811', '121.134561']}}, {'count': 5193, 'geom': ((48.043495911785755, 16.301518645054486), (48.04324562767767, 16.301525949370554), (48.04313251362769, 16.301872361511418), (48.04326968336076, 16.302211470904755), (48.04351996765765, 16.30220416883184), (48.043633082032656, 16.301857755122416)), 'address': {'place_id': 178112430, 'licence': 'Data © OpenStreetMap contributors, ODbL 1.0. https://osm.org/copyright', 'osm_type': 'way', 'osm_id': 379869486, 'lat': '48.04444264257028', 'lon': '16.300982436437998', 'display_name': 'Am Kanal, Gemeinde Gumpoldskirchen, Bezirk Mödling, Niederösterreich, 2352, Österreich', 'address': {'road': 'Am Kanal', 'village': 'Gemeinde Gumpoldskirchen', 'county': 'Bezirk Mödling', 'state': 'Niederösterreich', 'postcode': '2352', 'country': 'Österreich', 'country_code': 'at'}, 'boundingbox': ['48.0433485', '48.0448013', '16.2996686', '16.3015139']}}, {'count': 3474, 'geom': ((37.664615098184605, -122.3821063316617), (37.66485561417418, -122.38195332953349), (37.66507088168381, -122.38213304887444), (37.665045632726304, -122.38246577032479), (37.66480511673294, -122.38261877104209), (37.664589849700874, -122.38243905171993)), 'address': {'place_id': 98081919, 'licence': 'Data © OpenStreetMap contributors, ODbL 1.0. https://osm.org/copyright', 'osm_type': 'way', 'osm_id': 32199432, 'lat': '37.6664184', 'lon': '-122.3834422', 'display_name': 'Oyster Point Boulevard, South San Francisco, San Mateo County, California, 94083, United States', 'address': {'road': 'Oyster Point Boulevard', 'city': 'South San Francisco', 'county': 'San Mateo County', 'state': 'California', 'postcode': '94083', 'country': 'United States', 'country_code': 'us'}, 'boundingbox': ['37.6645557', '37.6664184', '-122.384383', '-122.3834422']}}, {'count': 1066, 'geom': ((37.66552666349001, -122.3821597663164), (37.66576717826032, -122.3820067630253), (37.665982443603134, -122.38218648398761), (37.66595719369812, -122.38251920822226), (37.66571667892403, -122.38267221010243), (37.66550141405873, -122.3824924891589)), 'address': {'place_id': 98081919, 'licence': 'Data © OpenStreetMap contributors, ODbL 1.0. https://osm.org/copyright', 'osm_type': 'way', 'osm_id': 32199432, 'lat': '37.6664184', 'lon': '-122.3834422', 'display_name': 'Oyster Point Boulevard, South San Francisco, San Mateo County, California, 94083, United States', 'address': {'road': 'Oyster Point Boulevard', 'city': 'South San Francisco', 'county': 'San Mateo County', 'state': 'California', 'postcode': '94083', 'country': 'United States', 'country_code': 'us'}, 'boundingbox': ['37.6645557', '37.6664184', '-122.384383', '-122.3834422']}}, {'count': 4254, 'geom': ((37.540939712520334, -122.06112853256614), (37.54118022841956, -122.06097465754067), (37.54139647997397, -122.06115386836444), (37.541372215150304, -122.06148695421595), (37.54113169923708, -122.06164082784674), (37.5409154481615, -122.06146161702073)), 'address': {'place_id': 204194065, 'licence': 'Data © OpenStreetMap contributors, ODbL 1.0. https://osm.org/copyright', 'osm_type': 'way', 'osm_id': 520963327, 'lat': '37.54177385', 'lon': '-122.06218101965075', 'display_name': '7333;7373, Gateway Boulevard, Newark, Alameda County, California, 94555, United States', 'address': {'house_number': '7333;7373', 'road': 'Gateway Boulevard', 'town': 'Newark', 'county': 'Alameda County', 'state': 'California', 'postcode': '94555', 'country': 'United States', 'country_code': 'us'}, 'boundingbox': ['37.5405953', '37.5424448', '-122.0634401', '-122.0609219']}}, {'count': 1480, 'geom': ((51.60146310410703, 5.01573157870171), (51.60123334086634, 5.015776625319914), (51.60116421725834, 5.016136415303806), (51.60132485685553, 5.016451161127923), (51.60155462055525, 5.016406116555083), (51.601623744198754, 5.016046324112737)), 'address': {'place_id': 195535414, 'licence': 'Data © OpenStreetMap contributors, ODbL 1.0. https://osm.org/copyright', 'osm_type': 'way', 'osm_id': 477121692, 'lat': '51.600958', 'lon': '5.017535955479732', 'display_name': 'Tesla #3, Dongenseweg, Vossenberg West I, Vossenberg, Tilburg, Noord-Brabant, Nederland, 5047TK, Nederland', 'address': {'building': 'Tesla #3', 'road': 'Dongenseweg', 'industrial': 'Vossenberg West I', 'suburb': 'Vossenberg', 'city': 'Tilburg', 'municipality': 'Tilburg', 'state': 'Noord-Brabant', 'region': 'Nederland', 'postcode': '5047TK', 'country': 'Nederland', 'country_code': 'nl'}, 'boundingbox': ['51.5996724', '51.6020833', '5.0153037', '5.0195204']}}, {'count': 2930, 'geom': ((35.67470247589357, 139.8149457004078), (35.67495315252921, 139.8148650663297), (35.6750208644814, 139.8145813715711), (35.67483790017922, 139.81437831286254), (35.674587224624474, 139.8144589479583), (35.674519512291006, 139.81474264074498)), 'address': {'place_id': 166733550, 'licence': 'Data © OpenStreetMap contributors, ODbL 1.0. https://osm.org/copyright', 'osm_type': 'way', 'osm_id': 315992921, 'lat': '35.674612249999996', 'lon': '139.81454308762244', 'display_name': 'ホテルイースト21東京, イースト21プラザ, 東陽六丁目, 江東区, 東京都, 日本', 'address': {'building': 'ホテルイースト21東京', 'road': 'イースト21プラザ', 'neighbourhood': '東陽六丁目', 'city': '江東区', 'country': '日本', 'country_code': 'jp'}, 'boundingbox': ['35.6742201', '35.6748058', '139.8140811', '139.8152874']}}, {'count': 1888, 'geom': ((46.85377665862242, 9.515761280617356), (46.85352716998632, 9.515789934955516), (46.85343346076573, 9.516131010099848), (46.85358924006427, 9.516443432863003), (46.853838729113875, 9.516414780513902), (46.853932438451444, 9.516073703412596)), 'address': {'place_id': 123976492, 'licence': 'Data © OpenStreetMap contributors, ODbL 1.0. https://osm.org/copyright', 'osm_type': 'way', 'osm_id': 144145103, 'lat': '46.85349925', 'lon': '9.515134548969165', 'display_name': '32, Ringstrasse, Industriezone Industriestrasse, Chur, Plessur, Graubünden/Grischun/Grigioni, 7004, Schweiz/Suisse/Svizzera/Svizra', 'address': {'house_number': '32', 'road': 'Ringstrasse', 'industrial': 'Industriezone Industriestrasse', 'city': 'Chur', 'county': 'Plessur', 'state': 'Graubünden/Grischun/Grigioni', 'postcode': '7004', 'country': 'Schweiz/Suisse/Svizzera/Svizra', 'country_code': 'ch'}, 'boundingbox': ['46.8532245', '46.8537382', '9.5145878', '9.515574']}}, {'count': 1282, 'geom': ((35.772227550243265, 140.38237702369327), (35.77247947830286, 140.38229762986822), (35.77254860597312, 140.38201208121257), (35.7723658059439, 140.38180592836707), (35.77211387895625, 140.3818853232481), (35.77204475092584, 140.3821708699187)), 'address': {'place_id': 125817222, 'licence': 'Data © OpenStreetMap contributors, ODbL 1.0. https://osm.org/copyright', 'osm_type': 'way', 'osm_id': 155999714, 'lat': '35.7721132', 'lon': '140.3823687', 'display_name': '古込, 成田市, 千葉県, 282-0004, 日本', 'address': {'quarter': '古込', 'city': '成田市', 'province': '千葉県', 'postcode': '282-0004', 'country': '日本', 'country_code': 'jp'}, 'boundingbox': ['35.7721132', '35.7725617', '140.3823687', '140.3833071']}}, {'count': 2518, 'geom': ((50.04841926914673, 8.561590010575376), (50.04818059042222, 8.561622982274848), (50.04809648302925, 8.561978445773553), (50.04825105423525, 8.562300939758927), (50.04848973335795, 8.562267970187214), (50.04857384087648, 8.561912504502352)), 'address': {'place_id': 258557164, 'licence': 'Data © OpenStreetMap contributors, ODbL 1.0. https://osm.org/copyright', 'osm_type': 'relation', 'osm_id': 3900236, 'lat': '50.04857805', 'lon': '8.561701243182977', 'display_name': 'Gebäude 322, Flughafen Lufthansabasis (Richtung Ost), Flughafen, Süd, Frankfurt am Main, Hessen, 60549, Deutschland', 'address': {'building': 'Gebäude 322', 'road': 'Flughafen Lufthansabasis (Richtung Ost)', 'suburb': 'Flughafen', 'city_district': 'Süd', 'city': 'Frankfurt am Main', 'state': 'Hessen', 'postcode': '60549', 'country': 'Deutschland', 'country_code': 'de'}, 'boundingbox': ['50.0481276', '50.0490224', '8.5611023', '8.5623541']}}, {'count': 6202, 'geom': ((19.0590323988486, -98.28482103227438), (19.05925556004551, -98.28464356279432), (19.059510470010245, -98.28475535115065), (19.059542218582664, -98.28504461002227), (19.05931905667541, -98.28522207957688), (19.059064146906074, -98.28511029018534)), 'address': {'place_id': 257229843, 'licence': 'Data © OpenStreetMap contributors, ODbL 1.0. https://osm.org/copyright', 'osm_type': 'way', 'osm_id': 871449370, 'lat': '19.05927428988914', 'lon': '-98.28490165171009', 'display_name': 'San Andrés Cholula, Puebla, 72810|, México', 'address': {'town': 'San Andrés Cholula', 'county': 'San Andrés Cholula', 'state': 'Puebla', 'postcode': '72810|', 'country': 'México', 'country_code': 'mx'}, 'boundingbox': ['19.0590434', '19.059346', '-98.285', '-98.2848717']}}, {'count': 1170, 'geom': ((19.28935577977188, -99.53614457786429), (19.289580908756392, -99.5359678800002), (19.289836102660605, -99.53608305547063), (19.289866167343966, -99.53637492980788), (19.28964103765957, -99.53655162768183), (19.28938584399171, -99.53643645120867)), 'address': {'place_id': 242831534, 'licence': 'Data © OpenStreetMap contributors, ODbL 1.0. https://osm.org/copyright', 'osm_type': 'way', 'osm_id': 777871262, 'lat': '19.290634101059602', 'lon': '-99.5364898279293', 'display_name': 'Circuito Industria Sur, Lerma de Villada, Lerma, Estado de México, 52105, México', 'address': {'road': 'Circuito Industria Sur', 'town': 'Lerma de Villada', 'county': 'Lerma', 'state': 'Estado de México', 'postcode': '52105', 'country': 'México', 'country_code': 'mx'}, 'boundingbox': ['19.2902386', '19.2908544', '-99.5382088', '-99.5355246']}}, {'count': 1076, 'geom': ((19.463116050111992, -99.23685389996184), (19.46334078900501, -99.2366766866207), (19.463596184430337, -99.23679126243466), (19.463626840739305, -99.23708305260423), (19.463402101147153, -99.23726026597095), (19.463146705945167, -99.23714568914254)), 'address': {'place_id': 201351629, 'licence': 'Data © OpenStreetMap contributors, ODbL 1.0. https://osm.org/copyright', 'osm_type': 'way', 'osm_id': 500237547, 'lat': '19.463429086899204', 'lon': '-99.23713611186088', 'display_name': 'Calle Ferrocarriles a Acambaro, Naucalpan, Naucalpan de Juárez, Estado de México, 53530, México', 'address': {'road': 'Calle Ferrocarriles a Acambaro', 'city': 'Naucalpan', 'county': 'Naucalpan de Juárez', 'state': 'Estado de México', 'postcode': '53530', 'country': 'México', 'country_code': 'mx'}, 'boundingbox': ['19.462617', '19.4643817', '-99.2374153', '-99.2368083']}}]\n"
     ]
    }
   ],
   "source": [
    "df = data\n",
    "h3_map = create_map(filtered_geo)\n",
    "show_map(h3_map, \"map_h3_{0}.html\".format(h3_level))"
   ]
  },
  {
   "cell_type": "code",
   "execution_count": 77,
   "metadata": {},
   "outputs": [
    {
     "data": {
      "text/plain": [
       "{'place_id': 146561397,\n",
       " 'licence': 'Data © OpenStreetMap contributors, ODbL 1.0. https://osm.org/copyright',\n",
       " 'osm_type': 'way',\n",
       " 'osm_id': 228441175,\n",
       " 'lat': '51.16767405',\n",
       " 'lon': '6.839964711427934',\n",
       " 'display_name': 'Rheinhöfe Kranhaus, 31a, Reisholzer Werftstraße, Holthausen, Stadtbezirk 9, Düsseldorf, Nordrhein-Westfalen, 40589, Deutschland',\n",
       " 'address': {'building': 'Rheinhöfe Kranhaus',\n",
       "  'house_number': '31a',\n",
       "  'road': 'Reisholzer Werftstraße',\n",
       "  'suburb': 'Holthausen',\n",
       "  'city_district': 'Stadtbezirk 9',\n",
       "  'city': 'Düsseldorf',\n",
       "  'state': 'Nordrhein-Westfalen',\n",
       "  'postcode': '40589',\n",
       "  'country': 'Deutschland',\n",
       "  'country_code': 'de'},\n",
       " 'boundingbox': ['51.1675628', '51.1678441', '6.83979', '6.8400713']}"
      ]
     },
     "execution_count": 77,
     "metadata": {},
     "output_type": "execute_result"
    }
   ],
   "source": [
    "locator = Nominatim(user_agent=\"myGeocoder\")\n",
    "rgeocode = RateLimiter(locator.reverse, min_delay_seconds=0.001)\n",
    "coordinates = \" \".join(map(str,cluster_geo[0]))\n",
    "location = rgeocode(coordinates)\n",
    "location.raw"
   ]
  },
  {
   "cell_type": "code",
   "execution_count": 73,
   "metadata": {},
   "outputs": [],
   "source": [
    "for idx, i in enumerate(filtered_geo_id):\n",
    "    coordinates = \" \".join(map(str,h3.h3_to_geo(i)))\n",
    "    filtered_geo[idx][\"address\"] = rgeocode(coordinates).raw"
   ]
  },
  {
   "cell_type": "code",
   "execution_count": 86,
   "metadata": {},
   "outputs": [
    {
     "data": {
      "text/plain": [
       "'Rheinhöfe Kranhaus, 31a, Reisholzer Werftstraße, Holthausen, Stadtbezirk 9, Düsseldorf, Nordrhein-Westfalen, 40589, Deutschland'"
      ]
     },
     "execution_count": 86,
     "metadata": {},
     "output_type": "execute_result"
    }
   ],
   "source": [
    "filtered_geo[0]"
   ]
  }
 ],
 "metadata": {
  "kernelspec": {
   "display_name": "Python 3 (ipykernel)",
   "language": "python",
   "name": "python3"
  },
  "language_info": {
   "codemirror_mode": {
    "name": "ipython",
    "version": 3
   },
   "file_extension": ".py",
   "mimetype": "text/x-python",
   "name": "python",
   "nbconvert_exporter": "python",
   "pygments_lexer": "ipython3",
   "version": "3.9.1"
  }
 },
 "nbformat": 4,
 "nbformat_minor": 2
}
